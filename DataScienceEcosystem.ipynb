{
 "cells": [
  {
   "cell_type": "markdown",
   "id": "6278e08c-02ed-4c35-a09a-b939c655fcde",
   "metadata": {},
   "source": [
    "# Data Science Tools and Ecosystem"
   ]
  },
  {
   "cell_type": "markdown",
   "id": "bfcf7dc6-eccc-4d5b-8ee4-78b2dbbb135f",
   "metadata": {},
   "source": [
    "# Introduction \n",
    "## In this notebook, Data Science Tools and Ecosystem are summarized."
   ]
  },
  {
   "cell_type": "markdown",
   "id": "961b6a50-f357-493b-a40f-bc9798589727",
   "metadata": {},
   "source": [
    "## **Objectives:**\n",
    "- Popular languages in data science\n",
    "- Various libraries for data science\n",
    "- Introduction to jupyter notebook\n",
    "- Introduction to github"
   ]
  },
  {
   "cell_type": "markdown",
   "id": "aaaddfe5-a221-4c50-9f7e-ba4a230ecb88",
   "metadata": {},
   "source": [
    "# Some of the popular languages that Data Scientists use are:\n",
    "1. Python\n",
    "2. R\n",
    "3. SQL\n",
    "4. Java\n",
    "5. Julia\n",
    "6. Scala"
   ]
  },
  {
   "cell_type": "markdown",
   "id": "4a1ec42b-5d14-42c1-bce7-08f4b8acbd6f",
   "metadata": {},
   "source": [
    "# Some of the commonly used libraries used by Data Scientists include:\n",
    "1. Pandas\n",
    "2. NumPy\n",
    "3. Scikit-learn\n",
    "4. Keras\n",
    "5. Matplotlib\n",
    "6. Seaborn"
   ]
  },
  {
   "cell_type": "markdown",
   "id": "82ea9001-bcc5-4953-9d79-3b57cd983a8f",
   "metadata": {},
   "source": [
    "# Table of of Data Science tools\n",
    "|Data Science Tools|\n",
    "|-------------------|\n",
    "|Programming languages:Python, R, SQL|\n",
    "|Data science libraries:Pandas, Numpy|\n",
    "|Machine learning libraries:\tScikit-learn, TensorFlow ,PyTorch |\n",
    "|Data Visualization:Matplotlib ,Seaborn|"
   ]
  },
  {
   "cell_type": "markdown",
   "id": "ef40c83b-62a6-4b29-a3a8-4f03bbbcf529",
   "metadata": {},
   "source": [
    "### Below are a few examples of evaluating arithmetic expressions in Python"
   ]
  },
  {
   "cell_type": "markdown",
   "id": "cde86e93-25b3-44af-b015-a43ecc331f5b",
   "metadata": {},
   "source": [
    "#  This a simple arithmetic expression to mutiply then add integers"
   ]
  },
  {
   "cell_type": "code",
   "execution_count": 139,
   "id": "45cc1a87-5d18-4b6a-a07c-c33122a8d6ef",
   "metadata": {},
   "outputs": [
    {
     "data": {
      "text/plain": [
       "17"
      ]
     },
     "execution_count": 139,
     "metadata": {},
     "output_type": "execute_result"
    }
   ],
   "source": [
    "(3*4)+5"
   ]
  },
  {
   "cell_type": "markdown",
   "id": "7709c748-8089-47ac-a4ed-bb0db11c4a58",
   "metadata": {},
   "source": [
    "# This will convert 200 minutes to hours by diving by 60"
   ]
  },
  {
   "cell_type": "code",
   "execution_count": 142,
   "id": "c6cc04f7-b162-49e5-8c5a-928b5da833f4",
   "metadata": {},
   "outputs": [
    {
     "data": {
      "text/plain": [
       "3.3333333333333335"
      ]
     },
     "execution_count": 142,
     "metadata": {},
     "output_type": "execute_result"
    }
   ],
   "source": [
    "minutes = 200;\n",
    "hours = minutes / 60;\n",
    "hours"
   ]
  },
  {
   "cell_type": "markdown",
   "id": "463504d4-d6ae-4852-a080-80ebba164e17",
   "metadata": {},
   "source": [
    "## Author Name\n",
    " Partha Sarathi Mohapatra"
   ]
  },
  {
   "cell_type": "code",
   "execution_count": null,
   "id": "37dee8cb-1746-44a5-8d22-81f641a5a09e",
   "metadata": {},
   "outputs": [],
   "source": []
  }
 ],
 "metadata": {
  "kernelspec": {
   "display_name": "Python 3 (ipykernel)",
   "language": "python",
   "name": "python3"
  },
  "language_info": {
   "codemirror_mode": {
    "name": "ipython",
    "version": 3
   },
   "file_extension": ".py",
   "mimetype": "text/x-python",
   "name": "python",
   "nbconvert_exporter": "python",
   "pygments_lexer": "ipython3",
   "version": "3.12.4"
  }
 },
 "nbformat": 4,
 "nbformat_minor": 5
}
